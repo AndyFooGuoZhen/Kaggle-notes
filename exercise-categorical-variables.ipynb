{
 "cells": [
  {
   "cell_type": "markdown",
   "metadata": {
    "papermill": {
     "duration": 0.033435,
     "end_time": "2020-12-08T03:55:07.160275",
     "exception": false,
     "start_time": "2020-12-08T03:55:07.126840",
     "status": "completed"
    },
    "tags": []
   },
   "source": [
    "**This notebook is an exercise in the [Intermediate Machine Learning](https://www.kaggle.com/learn/intermediate-machine-learning) course.  You can reference the tutorial at [this link](https://www.kaggle.com/alexisbcook/categorical-variables).**\n",
    "\n",
    "---\n"
   ]
  },
  {
   "cell_type": "markdown",
   "metadata": {
    "papermill": {
     "duration": 0.03234,
     "end_time": "2020-12-08T03:55:07.224689",
     "exception": false,
     "start_time": "2020-12-08T03:55:07.192349",
     "status": "completed"
    },
    "tags": []
   },
   "source": [
    "By encoding **categorical variables**, you'll obtain your best results thus far!\n",
    "\n",
    "# Setup\n",
    "\n",
    "The questions below will give you feedback on your work. Run the following cell to set up the feedback system."
   ]
  },
  {
   "cell_type": "code",
   "execution_count": 1,
   "metadata": {
    "execution": {
     "iopub.execute_input": "2020-12-08T03:55:07.298189Z",
     "iopub.status.busy": "2020-12-08T03:55:07.297079Z",
     "iopub.status.idle": "2020-12-08T03:55:07.351383Z",
     "shell.execute_reply": "2020-12-08T03:55:07.350578Z"
    },
    "papermill": {
     "duration": 0.093825,
     "end_time": "2020-12-08T03:55:07.351528",
     "exception": false,
     "start_time": "2020-12-08T03:55:07.257703",
     "status": "completed"
    },
    "tags": []
   },
   "outputs": [
    {
     "name": "stdout",
     "output_type": "stream",
     "text": [
      "Setup Complete\n"
     ]
    }
   ],
   "source": [
    "# Set up code checking\n",
    "import os\n",
    "if not os.path.exists(\"../input/train.csv\"):\n",
    "    os.symlink(\"../input/home-data-for-ml-course/train.csv\", \"../input/train.csv\")  \n",
    "    os.symlink(\"../input/home-data-for-ml-course/test.csv\", \"../input/test.csv\") \n",
    "from learntools.core import binder\n",
    "binder.bind(globals())\n",
    "from learntools.ml_intermediate.ex3 import *\n",
    "print(\"Setup Complete\")"
   ]
  },
  {
   "cell_type": "markdown",
   "metadata": {
    "papermill": {
     "duration": 0.032172,
     "end_time": "2020-12-08T03:55:07.416825",
     "exception": false,
     "start_time": "2020-12-08T03:55:07.384653",
     "status": "completed"
    },
    "tags": []
   },
   "source": [
    "In this exercise, you will work with data from the [Housing Prices Competition for Kaggle Learn Users](https://www.kaggle.com/c/home-data-for-ml-course). \n",
    "\n",
    "![Ames Housing dataset image](https://i.imgur.com/lTJVG4e.png)\n",
    "\n",
    "Run the next code cell without changes to load the training and validation sets in `X_train`, `X_valid`, `y_train`, and `y_valid`.  The test set is loaded in `X_test`."
   ]
  },
  {
   "cell_type": "code",
   "execution_count": 2,
   "metadata": {
    "execution": {
     "iopub.execute_input": "2020-12-08T03:55:07.495230Z",
     "iopub.status.busy": "2020-12-08T03:55:07.494239Z",
     "iopub.status.idle": "2020-12-08T03:55:08.879392Z",
     "shell.execute_reply": "2020-12-08T03:55:08.880238Z"
    },
    "papermill": {
     "duration": 1.431056,
     "end_time": "2020-12-08T03:55:08.880445",
     "exception": false,
     "start_time": "2020-12-08T03:55:07.449389",
     "status": "completed"
    },
    "tags": []
   },
   "outputs": [
    {
     "name": "stdout",
     "output_type": "stream",
     "text": [
      "79\n",
      "60\n"
     ]
    }
   ],
   "source": [
    "import pandas as pd\n",
    "from sklearn.model_selection import train_test_split\n",
    "\n",
    "# Read the data\n",
    "X = pd.read_csv('../input/train.csv', index_col='Id') \n",
    "X_test = pd.read_csv('../input/test.csv', index_col='Id')\n",
    "\n",
    "# Remove rows with missing target, separate target from predictors\n",
    "X.dropna(axis=0, subset=['SalePrice'], inplace=True)\n",
    "y = X.SalePrice\n",
    "X.drop(['SalePrice'], axis=1, inplace=True)\n",
    "\n",
    "print(len(X.columns))\n",
    "\n",
    "# To keep things simple, we'll drop columns with missing values\n",
    "cols_with_missing = [col for col in X.columns if X[col].isnull().any()] \n",
    "X.drop(cols_with_missing, axis=1, inplace=True)\n",
    "X_test.drop(cols_with_missing, axis=1, inplace=True)\n",
    "\n",
    "print(len(X.columns))\n",
    "\n",
    "# Break off validation set from training data\n",
    "X_train, X_valid, y_train, y_valid = train_test_split(X, y,\n",
    "                                                      train_size=0.8, test_size=0.2,\n",
    "                                                      random_state=0)"
   ]
  },
  {
   "cell_type": "markdown",
   "metadata": {
    "papermill": {
     "duration": 0.032674,
     "end_time": "2020-12-08T03:55:08.946762",
     "exception": false,
     "start_time": "2020-12-08T03:55:08.914088",
     "status": "completed"
    },
    "tags": []
   },
   "source": [
    "Use the next code cell to print the first five rows of the data."
   ]
  },
  {
   "cell_type": "code",
   "execution_count": 3,
   "metadata": {
    "execution": {
     "iopub.execute_input": "2020-12-08T03:55:09.038532Z",
     "iopub.status.busy": "2020-12-08T03:55:09.037683Z",
     "iopub.status.idle": "2020-12-08T03:55:09.062758Z",
     "shell.execute_reply": "2020-12-08T03:55:09.063438Z"
    },
    "papermill": {
     "duration": 0.083106,
     "end_time": "2020-12-08T03:55:09.063627",
     "exception": false,
     "start_time": "2020-12-08T03:55:08.980521",
     "status": "completed"
    },
    "tags": []
   },
   "outputs": [
    {
     "data": {
      "text/html": [
       "<div>\n",
       "<style scoped>\n",
       "    .dataframe tbody tr th:only-of-type {\n",
       "        vertical-align: middle;\n",
       "    }\n",
       "\n",
       "    .dataframe tbody tr th {\n",
       "        vertical-align: top;\n",
       "    }\n",
       "\n",
       "    .dataframe thead th {\n",
       "        text-align: right;\n",
       "    }\n",
       "</style>\n",
       "<table border=\"1\" class=\"dataframe\">\n",
       "  <thead>\n",
       "    <tr style=\"text-align: right;\">\n",
       "      <th></th>\n",
       "      <th>MSSubClass</th>\n",
       "      <th>MSZoning</th>\n",
       "      <th>LotArea</th>\n",
       "      <th>Street</th>\n",
       "      <th>LotShape</th>\n",
       "      <th>LandContour</th>\n",
       "      <th>Utilities</th>\n",
       "      <th>LotConfig</th>\n",
       "      <th>LandSlope</th>\n",
       "      <th>Neighborhood</th>\n",
       "      <th>...</th>\n",
       "      <th>OpenPorchSF</th>\n",
       "      <th>EnclosedPorch</th>\n",
       "      <th>3SsnPorch</th>\n",
       "      <th>ScreenPorch</th>\n",
       "      <th>PoolArea</th>\n",
       "      <th>MiscVal</th>\n",
       "      <th>MoSold</th>\n",
       "      <th>YrSold</th>\n",
       "      <th>SaleType</th>\n",
       "      <th>SaleCondition</th>\n",
       "    </tr>\n",
       "    <tr>\n",
       "      <th>Id</th>\n",
       "      <th></th>\n",
       "      <th></th>\n",
       "      <th></th>\n",
       "      <th></th>\n",
       "      <th></th>\n",
       "      <th></th>\n",
       "      <th></th>\n",
       "      <th></th>\n",
       "      <th></th>\n",
       "      <th></th>\n",
       "      <th></th>\n",
       "      <th></th>\n",
       "      <th></th>\n",
       "      <th></th>\n",
       "      <th></th>\n",
       "      <th></th>\n",
       "      <th></th>\n",
       "      <th></th>\n",
       "      <th></th>\n",
       "      <th></th>\n",
       "      <th></th>\n",
       "    </tr>\n",
       "  </thead>\n",
       "  <tbody>\n",
       "    <tr>\n",
       "      <th>619</th>\n",
       "      <td>20</td>\n",
       "      <td>RL</td>\n",
       "      <td>11694</td>\n",
       "      <td>Pave</td>\n",
       "      <td>Reg</td>\n",
       "      <td>Lvl</td>\n",
       "      <td>AllPub</td>\n",
       "      <td>Inside</td>\n",
       "      <td>Gtl</td>\n",
       "      <td>NridgHt</td>\n",
       "      <td>...</td>\n",
       "      <td>108</td>\n",
       "      <td>0</td>\n",
       "      <td>0</td>\n",
       "      <td>260</td>\n",
       "      <td>0</td>\n",
       "      <td>0</td>\n",
       "      <td>7</td>\n",
       "      <td>2007</td>\n",
       "      <td>New</td>\n",
       "      <td>Partial</td>\n",
       "    </tr>\n",
       "    <tr>\n",
       "      <th>871</th>\n",
       "      <td>20</td>\n",
       "      <td>RL</td>\n",
       "      <td>6600</td>\n",
       "      <td>Pave</td>\n",
       "      <td>Reg</td>\n",
       "      <td>Lvl</td>\n",
       "      <td>AllPub</td>\n",
       "      <td>Inside</td>\n",
       "      <td>Gtl</td>\n",
       "      <td>NAmes</td>\n",
       "      <td>...</td>\n",
       "      <td>0</td>\n",
       "      <td>0</td>\n",
       "      <td>0</td>\n",
       "      <td>0</td>\n",
       "      <td>0</td>\n",
       "      <td>0</td>\n",
       "      <td>8</td>\n",
       "      <td>2009</td>\n",
       "      <td>WD</td>\n",
       "      <td>Normal</td>\n",
       "    </tr>\n",
       "    <tr>\n",
       "      <th>93</th>\n",
       "      <td>30</td>\n",
       "      <td>RL</td>\n",
       "      <td>13360</td>\n",
       "      <td>Pave</td>\n",
       "      <td>IR1</td>\n",
       "      <td>HLS</td>\n",
       "      <td>AllPub</td>\n",
       "      <td>Inside</td>\n",
       "      <td>Gtl</td>\n",
       "      <td>Crawfor</td>\n",
       "      <td>...</td>\n",
       "      <td>0</td>\n",
       "      <td>44</td>\n",
       "      <td>0</td>\n",
       "      <td>0</td>\n",
       "      <td>0</td>\n",
       "      <td>0</td>\n",
       "      <td>8</td>\n",
       "      <td>2009</td>\n",
       "      <td>WD</td>\n",
       "      <td>Normal</td>\n",
       "    </tr>\n",
       "    <tr>\n",
       "      <th>818</th>\n",
       "      <td>20</td>\n",
       "      <td>RL</td>\n",
       "      <td>13265</td>\n",
       "      <td>Pave</td>\n",
       "      <td>IR1</td>\n",
       "      <td>Lvl</td>\n",
       "      <td>AllPub</td>\n",
       "      <td>CulDSac</td>\n",
       "      <td>Gtl</td>\n",
       "      <td>Mitchel</td>\n",
       "      <td>...</td>\n",
       "      <td>59</td>\n",
       "      <td>0</td>\n",
       "      <td>0</td>\n",
       "      <td>0</td>\n",
       "      <td>0</td>\n",
       "      <td>0</td>\n",
       "      <td>7</td>\n",
       "      <td>2008</td>\n",
       "      <td>WD</td>\n",
       "      <td>Normal</td>\n",
       "    </tr>\n",
       "    <tr>\n",
       "      <th>303</th>\n",
       "      <td>20</td>\n",
       "      <td>RL</td>\n",
       "      <td>13704</td>\n",
       "      <td>Pave</td>\n",
       "      <td>IR1</td>\n",
       "      <td>Lvl</td>\n",
       "      <td>AllPub</td>\n",
       "      <td>Corner</td>\n",
       "      <td>Gtl</td>\n",
       "      <td>CollgCr</td>\n",
       "      <td>...</td>\n",
       "      <td>81</td>\n",
       "      <td>0</td>\n",
       "      <td>0</td>\n",
       "      <td>0</td>\n",
       "      <td>0</td>\n",
       "      <td>0</td>\n",
       "      <td>1</td>\n",
       "      <td>2006</td>\n",
       "      <td>WD</td>\n",
       "      <td>Normal</td>\n",
       "    </tr>\n",
       "  </tbody>\n",
       "</table>\n",
       "<p>5 rows × 60 columns</p>\n",
       "</div>"
      ],
      "text/plain": [
       "     MSSubClass MSZoning  LotArea Street LotShape LandContour Utilities  \\\n",
       "Id                                                                        \n",
       "619          20       RL    11694   Pave      Reg         Lvl    AllPub   \n",
       "871          20       RL     6600   Pave      Reg         Lvl    AllPub   \n",
       "93           30       RL    13360   Pave      IR1         HLS    AllPub   \n",
       "818          20       RL    13265   Pave      IR1         Lvl    AllPub   \n",
       "303          20       RL    13704   Pave      IR1         Lvl    AllPub   \n",
       "\n",
       "    LotConfig LandSlope Neighborhood  ... OpenPorchSF EnclosedPorch 3SsnPorch  \\\n",
       "Id                                    ...                                       \n",
       "619    Inside       Gtl      NridgHt  ...         108             0         0   \n",
       "871    Inside       Gtl        NAmes  ...           0             0         0   \n",
       "93     Inside       Gtl      Crawfor  ...           0            44         0   \n",
       "818   CulDSac       Gtl      Mitchel  ...          59             0         0   \n",
       "303    Corner       Gtl      CollgCr  ...          81             0         0   \n",
       "\n",
       "    ScreenPorch  PoolArea  MiscVal  MoSold  YrSold SaleType SaleCondition  \n",
       "Id                                                                         \n",
       "619         260         0        0       7    2007      New       Partial  \n",
       "871           0         0        0       8    2009       WD        Normal  \n",
       "93            0         0        0       8    2009       WD        Normal  \n",
       "818           0         0        0       7    2008       WD        Normal  \n",
       "303           0         0        0       1    2006       WD        Normal  \n",
       "\n",
       "[5 rows x 60 columns]"
      ]
     },
     "execution_count": 3,
     "metadata": {},
     "output_type": "execute_result"
    }
   ],
   "source": [
    "X_train.head()"
   ]
  },
  {
   "cell_type": "markdown",
   "metadata": {
    "papermill": {
     "duration": 0.037816,
     "end_time": "2020-12-08T03:55:09.142973",
     "exception": false,
     "start_time": "2020-12-08T03:55:09.105157",
     "status": "completed"
    },
    "tags": []
   },
   "source": [
    "Notice that the dataset contains both numerical and categorical variables.  You'll need to encode the categorical data before training a model.\n",
    "\n",
    "To compare different models, you'll use the same `score_dataset()` function from the tutorial.  This function reports the [mean absolute error](https://en.wikipedia.org/wiki/Mean_absolute_error) (MAE) from a random forest model."
   ]
  },
  {
   "cell_type": "code",
   "execution_count": 4,
   "metadata": {
    "execution": {
     "iopub.execute_input": "2020-12-08T03:55:09.226817Z",
     "iopub.status.busy": "2020-12-08T03:55:09.225959Z",
     "iopub.status.idle": "2020-12-08T03:55:09.477030Z",
     "shell.execute_reply": "2020-12-08T03:55:09.476411Z"
    },
    "papermill": {
     "duration": 0.295983,
     "end_time": "2020-12-08T03:55:09.477188",
     "exception": false,
     "start_time": "2020-12-08T03:55:09.181205",
     "status": "completed"
    },
    "tags": []
   },
   "outputs": [],
   "source": [
    "from sklearn.ensemble import RandomForestRegressor\n",
    "from sklearn.metrics import mean_absolute_error\n",
    "\n",
    "# function for comparing different approaches\n",
    "def score_dataset(X_train, X_valid, y_train, y_valid):\n",
    "    model = RandomForestRegressor(n_estimators=100, random_state=0)\n",
    "    model.fit(X_train, y_train)\n",
    "    preds = model.predict(X_valid)\n",
    "    return mean_absolute_error(y_valid, preds)"
   ]
  },
  {
   "cell_type": "markdown",
   "metadata": {
    "papermill": {
     "duration": 0.034038,
     "end_time": "2020-12-08T03:55:09.545963",
     "exception": false,
     "start_time": "2020-12-08T03:55:09.511925",
     "status": "completed"
    },
    "tags": []
   },
   "source": [
    "# Step 1: Drop columns with categorical data\n",
    "\n",
    "You'll get started with the most straightforward approach.  Use the code cell below to preprocess the data in `X_train` and `X_valid` to remove columns with categorical data.  Set the preprocessed DataFrames to `drop_X_train` and `drop_X_valid`, respectively.  "
   ]
  },
  {
   "cell_type": "code",
   "execution_count": 5,
   "metadata": {
    "execution": {
     "iopub.execute_input": "2020-12-08T03:55:09.624956Z",
     "iopub.status.busy": "2020-12-08T03:55:09.623444Z",
     "iopub.status.idle": "2020-12-08T03:55:09.646412Z",
     "shell.execute_reply": "2020-12-08T03:55:09.645671Z"
    },
    "papermill": {
     "duration": 0.066508,
     "end_time": "2020-12-08T03:55:09.646540",
     "exception": false,
     "start_time": "2020-12-08T03:55:09.580032",
     "status": "completed"
    },
    "tags": []
   },
   "outputs": [
    {
     "name": "stdout",
     "output_type": "stream",
     "text": [
      "     MSZoning Street LotShape LandContour Utilities LotConfig LandSlope  \\\n",
      "Id                                                                        \n",
      "619        RL   Pave      Reg         Lvl    AllPub    Inside       Gtl   \n",
      "871        RL   Pave      Reg         Lvl    AllPub    Inside       Gtl   \n",
      "93         RL   Pave      IR1         HLS    AllPub    Inside       Gtl   \n",
      "818        RL   Pave      IR1         Lvl    AllPub   CulDSac       Gtl   \n",
      "303        RL   Pave      IR1         Lvl    AllPub    Corner       Gtl   \n",
      "...       ...    ...      ...         ...       ...       ...       ...   \n",
      "764        RL   Pave      Reg         Lvl    AllPub    Inside       Gtl   \n",
      "836        RL   Pave      Reg         Lvl    AllPub    Inside       Gtl   \n",
      "1217       RM   Pave      Reg         Lvl    AllPub    Inside       Gtl   \n",
      "560        RL   Pave      Reg         Lvl    AllPub    Inside       Gtl   \n",
      "685        RL   Pave      IR2         Lvl    AllPub   CulDSac       Gtl   \n",
      "\n",
      "     Neighborhood Condition1 Condition2  ... ExterCond Foundation Heating  \\\n",
      "Id                                       ...                                \n",
      "619       NridgHt       Norm       Norm  ...        TA      PConc    GasA   \n",
      "871         NAmes       PosN       Norm  ...        TA     CBlock    GasA   \n",
      "93        Crawfor       Norm       Norm  ...        Gd     BrkTil    GasA   \n",
      "818       Mitchel       Norm       Norm  ...        TA      PConc    GasA   \n",
      "303       CollgCr       Norm       Norm  ...        TA      PConc    GasA   \n",
      "...           ...        ...        ...  ...       ...        ...     ...   \n",
      "764       NoRidge       Norm       Norm  ...        TA      PConc    GasA   \n",
      "836        Sawyer       Norm       Norm  ...        TA     CBlock    GasA   \n",
      "1217       Sawyer       RRAe       Norm  ...        TA       Slab    GasA   \n",
      "560       Blmngtn       Norm       Norm  ...        TA      PConc    GasA   \n",
      "685       NoRidge       Norm       Norm  ...        TA      PConc    GasA   \n",
      "\n",
      "     HeatingQC CentralAir KitchenQual Functional PavedDrive SaleType  \\\n",
      "Id                                                                     \n",
      "619         Ex          Y          Gd        Typ          Y      New   \n",
      "871         Gd          N          TA        Typ          Y       WD   \n",
      "93          Ex          Y          TA        Typ          Y       WD   \n",
      "818         Ex          Y          Gd        Typ          Y       WD   \n",
      "303         Ex          Y          Gd        Typ          Y       WD   \n",
      "...        ...        ...         ...        ...        ...      ...   \n",
      "764         Ex          Y          Gd        Typ          Y       WD   \n",
      "836         TA          Y          Gd       Min2          Y       WD   \n",
      "1217        TA          Y          TA        Typ          Y       WD   \n",
      "560         Ex          Y          Gd        Typ          Y       WD   \n",
      "685         Gd          Y          TA        Typ          Y       WD   \n",
      "\n",
      "     SaleCondition  \n",
      "Id                  \n",
      "619        Partial  \n",
      "871         Normal  \n",
      "93          Normal  \n",
      "818         Normal  \n",
      "303         Normal  \n",
      "...            ...  \n",
      "764         Normal  \n",
      "836         Normal  \n",
      "1217        Normal  \n",
      "560         Normal  \n",
      "685         Normal  \n",
      "\n",
      "[1168 rows x 27 columns]\n"
     ]
    }
   ],
   "source": [
    "print(X_train.select_dtypes(include=['object']))"
   ]
  },
  {
   "cell_type": "code",
   "execution_count": 6,
   "metadata": {
    "execution": {
     "iopub.execute_input": "2020-12-08T03:55:09.733362Z",
     "iopub.status.busy": "2020-12-08T03:55:09.732263Z",
     "iopub.status.idle": "2020-12-08T03:55:09.741626Z",
     "shell.execute_reply": "2020-12-08T03:55:09.740705Z"
    },
    "papermill": {
     "duration": 0.060309,
     "end_time": "2020-12-08T03:55:09.741801",
     "exception": false,
     "start_time": "2020-12-08T03:55:09.681492",
     "status": "completed"
    },
    "tags": []
   },
   "outputs": [
    {
     "name": "stdout",
     "output_type": "stream",
     "text": [
      "MSZoning\n",
      "Street\n",
      "LotShape\n",
      "LandContour\n",
      "Utilities\n",
      "LotConfig\n",
      "LandSlope\n",
      "Neighborhood\n",
      "Condition1\n",
      "Condition2\n",
      "BldgType\n",
      "HouseStyle\n",
      "RoofStyle\n",
      "RoofMatl\n",
      "Exterior1st\n",
      "Exterior2nd\n",
      "ExterQual\n",
      "ExterCond\n",
      "Foundation\n",
      "Heating\n",
      "HeatingQC\n",
      "CentralAir\n",
      "KitchenQual\n",
      "Functional\n",
      "PavedDrive\n",
      "SaleType\n",
      "SaleCondition\n"
     ]
    },
    {
     "data": {
      "application/javascript": [
       "parent.postMessage({\"jupyterEvent\": \"custom.exercise_interaction\", \"data\": {\"outcomeType\": 1, \"valueTowardsCompletion\": 0.5, \"interactionType\": 1, \"questionType\": 2, \"questionId\": \"1_Drop\", \"learnToolsVersion\": \"0.3.4\", \"failureMessage\": \"\", \"exceptionClass\": \"\", \"trace\": \"\"}}, \"*\")"
      ],
      "text/plain": [
       "<IPython.core.display.Javascript object>"
      ]
     },
     "metadata": {},
     "output_type": "display_data"
    },
    {
     "data": {
      "text/markdown": [
       "<span style=\"color:#33cc33\">Correct</span>"
      ],
      "text/plain": [
       "Correct"
      ]
     },
     "metadata": {},
     "output_type": "display_data"
    }
   ],
   "source": [
    "# Fill in the lines below: drop columns in training and validation data\n",
    "\n",
    "for col in X_train.columns:\n",
    "    if X_train[col].dtype=='object':\n",
    "        print (col)\n",
    "        \n",
    "drop_X_train = X_train.select_dtypes(exclude=['object'])\n",
    "drop_X_valid = X_valid.select_dtypes(exclude=['object'])\n",
    "\n",
    "# Check your answers\n",
    "step_1.check()"
   ]
  },
  {
   "cell_type": "code",
   "execution_count": 7,
   "metadata": {
    "execution": {
     "iopub.execute_input": "2020-12-08T03:55:09.820886Z",
     "iopub.status.busy": "2020-12-08T03:55:09.820112Z",
     "iopub.status.idle": "2020-12-08T03:55:09.823342Z",
     "shell.execute_reply": "2020-12-08T03:55:09.822739Z"
    },
    "papermill": {
     "duration": 0.044054,
     "end_time": "2020-12-08T03:55:09.823470",
     "exception": false,
     "start_time": "2020-12-08T03:55:09.779416",
     "status": "completed"
    },
    "tags": []
   },
   "outputs": [],
   "source": [
    "# Lines below will give you a hint or solution code\n",
    "#step_1.hint()\n",
    "#step_1.solution()"
   ]
  },
  {
   "cell_type": "markdown",
   "metadata": {
    "papermill": {
     "duration": 0.036559,
     "end_time": "2020-12-08T03:55:09.896986",
     "exception": false,
     "start_time": "2020-12-08T03:55:09.860427",
     "status": "completed"
    },
    "tags": []
   },
   "source": [
    "Run the next code cell to get the MAE for this approach."
   ]
  },
  {
   "cell_type": "code",
   "execution_count": 8,
   "metadata": {
    "execution": {
     "iopub.execute_input": "2020-12-08T03:55:09.979441Z",
     "iopub.status.busy": "2020-12-08T03:55:09.978361Z",
     "iopub.status.idle": "2020-12-08T03:55:11.285652Z",
     "shell.execute_reply": "2020-12-08T03:55:11.284965Z"
    },
    "papermill": {
     "duration": 1.352171,
     "end_time": "2020-12-08T03:55:11.285777",
     "exception": false,
     "start_time": "2020-12-08T03:55:09.933606",
     "status": "completed"
    },
    "tags": []
   },
   "outputs": [
    {
     "name": "stdout",
     "output_type": "stream",
     "text": [
      "MAE from Approach 1 (Drop categorical variables):\n",
      "17837.82570776256\n"
     ]
    }
   ],
   "source": [
    "print(\"MAE from Approach 1 (Drop categorical variables):\")\n",
    "print(score_dataset(drop_X_train, drop_X_valid, y_train, y_valid))"
   ]
  },
  {
   "cell_type": "markdown",
   "metadata": {
    "papermill": {
     "duration": 0.037383,
     "end_time": "2020-12-08T03:55:11.361012",
     "exception": false,
     "start_time": "2020-12-08T03:55:11.323629",
     "status": "completed"
    },
    "tags": []
   },
   "source": [
    "# Step 2: Label encoding\n",
    "\n",
    "Before jumping into label encoding, we'll investigate the dataset.  Specifically, we'll look at the `'Condition2'` column.  The code cell below prints the unique entries in both the training and validation sets."
   ]
  },
  {
   "cell_type": "code",
   "execution_count": 9,
   "metadata": {
    "execution": {
     "iopub.execute_input": "2020-12-08T03:55:11.444426Z",
     "iopub.status.busy": "2020-12-08T03:55:11.443263Z",
     "iopub.status.idle": "2020-12-08T03:55:11.447263Z",
     "shell.execute_reply": "2020-12-08T03:55:11.448061Z"
    },
    "papermill": {
     "duration": 0.049594,
     "end_time": "2020-12-08T03:55:11.448259",
     "exception": false,
     "start_time": "2020-12-08T03:55:11.398665",
     "status": "completed"
    },
    "tags": []
   },
   "outputs": [
    {
     "name": "stdout",
     "output_type": "stream",
     "text": [
      "Unique values in 'Condition2' column in training data: ['Norm' 'PosA' 'Feedr' 'PosN' 'Artery' 'RRAe']\n",
      "\n",
      "Unique values in 'Condition2' column in validation data: ['Norm' 'RRAn' 'RRNn' 'Artery' 'Feedr' 'PosN']\n"
     ]
    }
   ],
   "source": [
    "print(\"Unique values in 'Condition2' column in training data:\", X_train['Condition2'].unique())\n",
    "print(\"\\nUnique values in 'Condition2' column in validation data:\", X_valid['Condition2'].unique())"
   ]
  },
  {
   "cell_type": "markdown",
   "metadata": {
    "papermill": {
     "duration": 0.03815,
     "end_time": "2020-12-08T03:55:11.525940",
     "exception": false,
     "start_time": "2020-12-08T03:55:11.487790",
     "status": "completed"
    },
    "tags": []
   },
   "source": [
    "If you now write code to: \n",
    "- fit a label encoder to the training data, and then \n",
    "- use it to transform both the training and validation data, \n",
    "\n",
    "you'll get an error.  Can you see why this is the case?  (_You'll need  to use the above output to answer this question._)"
   ]
  },
  {
   "cell_type": "code",
   "execution_count": 10,
   "metadata": {
    "execution": {
     "iopub.execute_input": "2020-12-08T03:55:11.609297Z",
     "iopub.status.busy": "2020-12-08T03:55:11.608488Z",
     "iopub.status.idle": "2020-12-08T03:55:11.612038Z",
     "shell.execute_reply": "2020-12-08T03:55:11.611281Z"
    },
    "papermill": {
     "duration": 0.047055,
     "end_time": "2020-12-08T03:55:11.612198",
     "exception": false,
     "start_time": "2020-12-08T03:55:11.565143",
     "status": "completed"
    },
    "tags": []
   },
   "outputs": [],
   "source": [
    "#step_2.a.hint()"
   ]
  },
  {
   "cell_type": "code",
   "execution_count": 11,
   "metadata": {
    "execution": {
     "iopub.execute_input": "2020-12-08T03:55:11.696651Z",
     "iopub.status.busy": "2020-12-08T03:55:11.695596Z",
     "iopub.status.idle": "2020-12-08T03:55:11.702134Z",
     "shell.execute_reply": "2020-12-08T03:55:11.701410Z"
    },
    "papermill": {
     "duration": 0.051456,
     "end_time": "2020-12-08T03:55:11.702262",
     "exception": false,
     "start_time": "2020-12-08T03:55:11.650806",
     "status": "completed"
    },
    "tags": []
   },
   "outputs": [
    {
     "data": {
      "application/javascript": [
       "parent.postMessage({\"jupyterEvent\": \"custom.exercise_interaction\", \"data\": {\"interactionType\": 3, \"questionType\": 4, \"questionId\": \"2.1_LabelA\", \"learnToolsVersion\": \"0.3.4\", \"valueTowardsCompletion\": 0.0, \"failureMessage\": \"\", \"exceptionClass\": \"\", \"trace\": \"\", \"outcomeType\": 4}}, \"*\")"
      ],
      "text/plain": [
       "<IPython.core.display.Javascript object>"
      ]
     },
     "metadata": {},
     "output_type": "display_data"
    },
    {
     "data": {
      "text/markdown": [
       "<span style=\"color:#33cc99\">Solution:</span> Fitting a label encoder to a column in the training data creates a corresponding integer-valued label for each unique value **that appears in the training data**. In the case that the validation data contains values that don't also appear in the training data, the encoder will throw an error, because these values won't have an integer assigned to them.  Notice that the `'Condition2'` column in the validation data contains the values `'RRAn'` and `'RRNn'`, but these don't appear in the training data -- thus, if we try to use a label encoder with scikit-learn, the code will throw an error."
      ],
      "text/plain": [
       "Solution: Fitting a label encoder to a column in the training data creates a corresponding integer-valued label for each unique value **that appears in the training data**. In the case that the validation data contains values that don't also appear in the training data, the encoder will throw an error, because these values won't have an integer assigned to them.  Notice that the `'Condition2'` column in the validation data contains the values `'RRAn'` and `'RRNn'`, but these don't appear in the training data -- thus, if we try to use a label encoder with scikit-learn, the code will throw an error."
      ]
     },
     "metadata": {},
     "output_type": "display_data"
    }
   ],
   "source": [
    "# Check your answer (Run this code cell to receive credit!)\n",
    "step_2.a.solution()"
   ]
  },
  {
   "cell_type": "markdown",
   "metadata": {
    "papermill": {
     "duration": 0.039909,
     "end_time": "2020-12-08T03:55:11.782520",
     "exception": false,
     "start_time": "2020-12-08T03:55:11.742611",
     "status": "completed"
    },
    "tags": []
   },
   "source": [
    "This is a common problem that you'll encounter with real-world data, and there are many approaches to fixing this issue.  For instance, you can write a custom label encoder to deal with new categories.  The simplest approach, however, is to drop the problematic categorical columns.  \n",
    "\n",
    "Run the code cell below to save the problematic columns to a Python list `bad_label_cols`.  Likewise, columns that can be safely label encoded are stored in `good_label_cols`."
   ]
  },
  {
   "cell_type": "code",
   "execution_count": 12,
   "metadata": {
    "execution": {
     "iopub.execute_input": "2020-12-08T03:55:11.879018Z",
     "iopub.status.busy": "2020-12-08T03:55:11.878034Z",
     "iopub.status.idle": "2020-12-08T03:55:11.882560Z",
     "shell.execute_reply": "2020-12-08T03:55:11.881838Z"
    },
    "papermill": {
     "duration": 0.060314,
     "end_time": "2020-12-08T03:55:11.882680",
     "exception": false,
     "start_time": "2020-12-08T03:55:11.822366",
     "status": "completed"
    },
    "tags": []
   },
   "outputs": [
    {
     "name": "stdout",
     "output_type": "stream",
     "text": [
      "Categorical columns that will be label encoded: ['MSZoning', 'Street', 'LotShape', 'LandContour', 'LotConfig', 'BldgType', 'HouseStyle', 'ExterQual', 'CentralAir', 'KitchenQual', 'PavedDrive', 'SaleCondition']\n",
      "\n",
      "Categorical columns that will be dropped from the dataset: ['Condition2', 'RoofStyle', 'Functional', 'Condition1', 'Exterior2nd', 'Heating', 'LandSlope', 'HeatingQC', 'Utilities', 'Neighborhood', 'RoofMatl', 'Exterior1st', 'SaleType', 'ExterCond', 'Foundation']\n"
     ]
    }
   ],
   "source": [
    "# All categorical columns\n",
    "object_cols = [col for col in X_train.columns if X_train[col].dtype == \"object\"]\n",
    "\n",
    "# Columns that can be safely label encoded\n",
    "good_label_cols = [col for col in object_cols if \n",
    "                   set(X_train[col]) == set(X_valid[col])]\n",
    "        \n",
    "# Problematic columns that will be dropped from the dataset\n",
    "bad_label_cols = list(set(object_cols)-set(good_label_cols))\n",
    "        \n",
    "print('Categorical columns that will be label encoded:', good_label_cols)\n",
    "print('\\nCategorical columns that will be dropped from the dataset:', bad_label_cols)"
   ]
  },
  {
   "cell_type": "markdown",
   "metadata": {
    "papermill": {
     "duration": 0.040402,
     "end_time": "2020-12-08T03:55:11.963577",
     "exception": false,
     "start_time": "2020-12-08T03:55:11.923175",
     "status": "completed"
    },
    "tags": []
   },
   "source": [
    "Use the next code cell to label encode the data in `X_train` and `X_valid`.  Set the preprocessed DataFrames to `label_X_train` and `label_X_valid`, respectively.  \n",
    "- We have provided code below to drop the categorical columns in `bad_label_cols` from the dataset. \n",
    "- You should label encode the categorical columns in `good_label_cols`.  "
   ]
  },
  {
   "cell_type": "code",
   "execution_count": 13,
   "metadata": {
    "execution": {
     "iopub.execute_input": "2020-12-08T03:55:12.069630Z",
     "iopub.status.busy": "2020-12-08T03:55:12.068755Z",
     "iopub.status.idle": "2020-12-08T03:55:12.085993Z",
     "shell.execute_reply": "2020-12-08T03:55:12.086783Z"
    },
    "papermill": {
     "duration": 0.081841,
     "end_time": "2020-12-08T03:55:12.086953",
     "exception": false,
     "start_time": "2020-12-08T03:55:12.005112",
     "status": "completed"
    },
    "tags": []
   },
   "outputs": [
    {
     "name": "stdout",
     "output_type": "stream",
     "text": [
      "45\n",
      "45\n"
     ]
    },
    {
     "data": {
      "application/javascript": [
       "parent.postMessage({\"jupyterEvent\": \"custom.exercise_interaction\", \"data\": {\"outcomeType\": 1, \"valueTowardsCompletion\": 0.5, \"interactionType\": 1, \"questionType\": 2, \"questionId\": \"2.2_LabelB\", \"learnToolsVersion\": \"0.3.4\", \"failureMessage\": \"\", \"exceptionClass\": \"\", \"trace\": \"\"}}, \"*\")"
      ],
      "text/plain": [
       "<IPython.core.display.Javascript object>"
      ]
     },
     "metadata": {},
     "output_type": "display_data"
    },
    {
     "data": {
      "text/markdown": [
       "<span style=\"color:#33cc33\">Correct</span>"
      ],
      "text/plain": [
       "Correct"
      ]
     },
     "metadata": {},
     "output_type": "display_data"
    }
   ],
   "source": [
    "from sklearn.preprocessing import LabelEncoder\n",
    "\n",
    "# Drop categorical columns that will not be encoded\n",
    "label_X_train = X_train.drop(bad_label_cols, axis=1)\n",
    "label_X_valid = X_valid.drop(bad_label_cols, axis=1)\n",
    "\n",
    "# Apply label encoder\n",
    "le=LabelEncoder()\n",
    "\n",
    "print(len(label_X_train.columns))\n",
    "\n",
    "for col in good_label_cols:\n",
    "    label_X_train[col]=le.fit_transform(X_train[col])\n",
    "    label_X_valid[col]=le.transform(X_valid[col])\n",
    "\n",
    "\n",
    "print(len(label_X_train.columns))\n",
    "\n",
    "# Check your answer\n",
    "step_2.b.check()"
   ]
  },
  {
   "cell_type": "code",
   "execution_count": 14,
   "metadata": {
    "execution": {
     "iopub.execute_input": "2020-12-08T03:55:12.179310Z",
     "iopub.status.busy": "2020-12-08T03:55:12.177786Z",
     "iopub.status.idle": "2020-12-08T03:55:12.182190Z",
     "shell.execute_reply": "2020-12-08T03:55:12.181365Z"
    },
    "papermill": {
     "duration": 0.052695,
     "end_time": "2020-12-08T03:55:12.182324",
     "exception": false,
     "start_time": "2020-12-08T03:55:12.129629",
     "status": "completed"
    },
    "tags": []
   },
   "outputs": [],
   "source": [
    "# Lines below will give you a hint or solution code\n",
    "#step_2.b.hint()\n",
    "#step_2.b.solution()"
   ]
  },
  {
   "cell_type": "markdown",
   "metadata": {
    "papermill": {
     "duration": 0.04299,
     "end_time": "2020-12-08T03:55:12.269284",
     "exception": false,
     "start_time": "2020-12-08T03:55:12.226294",
     "status": "completed"
    },
    "tags": []
   },
   "source": [
    "Run the next code cell to get the MAE for this approach."
   ]
  },
  {
   "cell_type": "code",
   "execution_count": 15,
   "metadata": {
    "execution": {
     "iopub.execute_input": "2020-12-08T03:55:12.364781Z",
     "iopub.status.busy": "2020-12-08T03:55:12.363928Z",
     "iopub.status.idle": "2020-12-08T03:55:13.829444Z",
     "shell.execute_reply": "2020-12-08T03:55:13.828474Z"
    },
    "papermill": {
     "duration": 1.517106,
     "end_time": "2020-12-08T03:55:13.829777",
     "exception": false,
     "start_time": "2020-12-08T03:55:12.312671",
     "status": "completed"
    },
    "tags": []
   },
   "outputs": [
    {
     "name": "stdout",
     "output_type": "stream",
     "text": [
      "MAE from Approach 2 (Label Encoding):\n",
      "17575.291883561644\n"
     ]
    }
   ],
   "source": [
    "print(\"MAE from Approach 2 (Label Encoding):\") \n",
    "print(score_dataset(label_X_train, label_X_valid, y_train, y_valid))"
   ]
  },
  {
   "cell_type": "markdown",
   "metadata": {
    "papermill": {
     "duration": 0.047329,
     "end_time": "2020-12-08T03:55:13.926702",
     "exception": false,
     "start_time": "2020-12-08T03:55:13.879373",
     "status": "completed"
    },
    "tags": []
   },
   "source": [
    "# Step 3: Investigating cardinality\n",
    "\n",
    "So far, you've tried two different approaches to dealing with categorical variables.  And, you've seen that encoding categorical data yields better results than removing columns from the dataset.\n",
    "\n",
    "Soon, you'll try one-hot encoding.  Before then, there's one additional topic we need to cover.  Begin by running the next code cell without changes.  "
   ]
  },
  {
   "cell_type": "code",
   "execution_count": 16,
   "metadata": {
    "execution": {
     "iopub.execute_input": "2020-12-08T03:55:14.029012Z",
     "iopub.status.busy": "2020-12-08T03:55:14.027377Z",
     "iopub.status.idle": "2020-12-08T03:55:14.060450Z",
     "shell.execute_reply": "2020-12-08T03:55:14.059524Z"
    },
    "papermill": {
     "duration": 0.089443,
     "end_time": "2020-12-08T03:55:14.060625",
     "exception": false,
     "start_time": "2020-12-08T03:55:13.971182",
     "status": "completed"
    },
    "tags": []
   },
   "outputs": [
    {
     "name": "stdout",
     "output_type": "stream",
     "text": [
      "MSZoning, 5\n",
      "Street, 2\n",
      "LotShape, 4\n",
      "LandContour, 4\n",
      "Utilities, 2\n",
      "LotConfig, 5\n",
      "LandSlope, 3\n",
      "Neighborhood, 25\n",
      "Condition1, 9\n",
      "Condition2, 6\n",
      "BldgType, 5\n",
      "HouseStyle, 8\n",
      "RoofStyle, 6\n",
      "RoofMatl, 7\n",
      "Exterior1st, 15\n",
      "Exterior2nd, 16\n",
      "ExterQual, 4\n",
      "ExterCond, 5\n",
      "Foundation, 6\n",
      "Heating, 6\n",
      "HeatingQC, 5\n",
      "CentralAir, 2\n",
      "KitchenQual, 4\n",
      "Functional, 6\n",
      "PavedDrive, 3\n",
      "SaleType, 9\n",
      "SaleCondition, 6\n"
     ]
    },
    {
     "data": {
      "text/plain": [
       "[('Street', 2),\n",
       " ('Utilities', 2),\n",
       " ('CentralAir', 2),\n",
       " ('LandSlope', 3),\n",
       " ('PavedDrive', 3),\n",
       " ('LotShape', 4),\n",
       " ('LandContour', 4),\n",
       " ('ExterQual', 4),\n",
       " ('KitchenQual', 4),\n",
       " ('MSZoning', 5),\n",
       " ('LotConfig', 5),\n",
       " ('BldgType', 5),\n",
       " ('ExterCond', 5),\n",
       " ('HeatingQC', 5),\n",
       " ('Condition2', 6),\n",
       " ('RoofStyle', 6),\n",
       " ('Foundation', 6),\n",
       " ('Heating', 6),\n",
       " ('Functional', 6),\n",
       " ('SaleCondition', 6),\n",
       " ('RoofMatl', 7),\n",
       " ('HouseStyle', 8),\n",
       " ('Condition1', 9),\n",
       " ('SaleType', 9),\n",
       " ('Exterior1st', 15),\n",
       " ('Exterior2nd', 16),\n",
       " ('Neighborhood', 25)]"
      ]
     },
     "execution_count": 16,
     "metadata": {},
     "output_type": "execute_result"
    }
   ],
   "source": [
    "objectlist=[]\n",
    "\n",
    "for col in object_cols:\n",
    "    #print(\"%s, %d\"%(col, len(X_train[col].unique())))\n",
    "    print(\"%s, %d\"%(col, X_train[col].nunique())) #same as previous code\n",
    "    objectlist.append(col)\n",
    "    objectlist.append(X_train[col].nunique())\n",
    "\n",
    "newobject= {objectlist[i]: objectlist[i + 1] for i in range(0, len(objectlist), 2)}\n",
    "\n",
    "sorted(newobject.items(),key = lambda x:x[1])\n",
    "\n"
   ]
  },
  {
   "cell_type": "code",
   "execution_count": 17,
   "metadata": {
    "execution": {
     "iopub.execute_input": "2020-12-08T03:55:14.162304Z",
     "iopub.status.busy": "2020-12-08T03:55:14.161516Z",
     "iopub.status.idle": "2020-12-08T03:55:14.176195Z",
     "shell.execute_reply": "2020-12-08T03:55:14.175461Z"
    },
    "papermill": {
     "duration": 0.069093,
     "end_time": "2020-12-08T03:55:14.176339",
     "exception": false,
     "start_time": "2020-12-08T03:55:14.107246",
     "status": "completed"
    },
    "tags": []
   },
   "outputs": [
    {
     "data": {
      "text/plain": [
       "[('Street', 2),\n",
       " ('Utilities', 2),\n",
       " ('CentralAir', 2),\n",
       " ('LandSlope', 3),\n",
       " ('PavedDrive', 3),\n",
       " ('LotShape', 4),\n",
       " ('LandContour', 4),\n",
       " ('ExterQual', 4),\n",
       " ('KitchenQual', 4),\n",
       " ('MSZoning', 5),\n",
       " ('LotConfig', 5),\n",
       " ('BldgType', 5),\n",
       " ('ExterCond', 5),\n",
       " ('HeatingQC', 5),\n",
       " ('Condition2', 6),\n",
       " ('RoofStyle', 6),\n",
       " ('Foundation', 6),\n",
       " ('Heating', 6),\n",
       " ('Functional', 6),\n",
       " ('SaleCondition', 6),\n",
       " ('RoofMatl', 7),\n",
       " ('HouseStyle', 8),\n",
       " ('Condition1', 9),\n",
       " ('SaleType', 9),\n",
       " ('Exterior1st', 15),\n",
       " ('Exterior2nd', 16),\n",
       " ('Neighborhood', 25)]"
      ]
     },
     "execution_count": 17,
     "metadata": {},
     "output_type": "execute_result"
    }
   ],
   "source": [
    "# Get number of unique entries in each column with categorical data\n",
    "object_nunique = list(map(lambda col: X_train[col].nunique(), object_cols))\n",
    "d = dict(zip(object_cols, object_nunique))\n",
    "\n",
    "# Print number of unique entries by column, in ascending order\n",
    "sorted(d.items(), key=lambda x: x[1])"
   ]
  },
  {
   "cell_type": "markdown",
   "metadata": {
    "papermill": {
     "duration": 0.048134,
     "end_time": "2020-12-08T03:55:14.272138",
     "exception": false,
     "start_time": "2020-12-08T03:55:14.224004",
     "status": "completed"
    },
    "tags": []
   },
   "source": [
    "The output above shows, for each column with categorical data, the number of unique values in the column.  For instance, the `'Street'` column in the training data has two unique values: `'Grvl'` and `'Pave'`, corresponding to a gravel road and a paved road, respectively.\n",
    "\n",
    "We refer to the number of unique entries of a categorical variable as the **cardinality** of that categorical variable.  For instance, the `'Street'` variable has cardinality 2.\n",
    "\n",
    "Use the output above to answer the questions below."
   ]
  },
  {
   "cell_type": "code",
   "execution_count": 18,
   "metadata": {
    "execution": {
     "iopub.execute_input": "2020-12-08T03:55:14.374553Z",
     "iopub.status.busy": "2020-12-08T03:55:14.373713Z",
     "iopub.status.idle": "2020-12-08T03:55:14.382950Z",
     "shell.execute_reply": "2020-12-08T03:55:14.382141Z"
    },
    "papermill": {
     "duration": 0.06276,
     "end_time": "2020-12-08T03:55:14.383112",
     "exception": false,
     "start_time": "2020-12-08T03:55:14.320352",
     "status": "completed"
    },
    "tags": []
   },
   "outputs": [
    {
     "data": {
      "application/javascript": [
       "parent.postMessage({\"jupyterEvent\": \"custom.exercise_interaction\", \"data\": {\"outcomeType\": 1, \"valueTowardsCompletion\": 0.5, \"interactionType\": 1, \"questionType\": 1, \"questionId\": \"3.1_CardinalityA\", \"learnToolsVersion\": \"0.3.4\", \"failureMessage\": \"\", \"exceptionClass\": \"\", \"trace\": \"\"}}, \"*\")"
      ],
      "text/plain": [
       "<IPython.core.display.Javascript object>"
      ]
     },
     "metadata": {},
     "output_type": "display_data"
    },
    {
     "data": {
      "text/markdown": [
       "<span style=\"color:#33cc33\">Correct</span>"
      ],
      "text/plain": [
       "Correct"
      ]
     },
     "metadata": {},
     "output_type": "display_data"
    }
   ],
   "source": [
    "# Fill in the line below: How many categorical variables in the training data\n",
    "# have cardinality greater than 10?\n",
    "high_cardinality_numcols = 3\n",
    "\n",
    "# Fill in the line below: How many columns are needed to one-hot encode the \n",
    "# 'Neighborhood' variable in the training data?\n",
    "num_cols_neighborhood = 25\n",
    "\n",
    "# Check your answers\n",
    "step_3.a.check()"
   ]
  },
  {
   "cell_type": "code",
   "execution_count": 19,
   "metadata": {
    "execution": {
     "iopub.execute_input": "2020-12-08T03:55:14.489243Z",
     "iopub.status.busy": "2020-12-08T03:55:14.488257Z",
     "iopub.status.idle": "2020-12-08T03:55:14.491086Z",
     "shell.execute_reply": "2020-12-08T03:55:14.491651Z"
    },
    "papermill": {
     "duration": 0.056555,
     "end_time": "2020-12-08T03:55:14.491836",
     "exception": false,
     "start_time": "2020-12-08T03:55:14.435281",
     "status": "completed"
    },
    "tags": []
   },
   "outputs": [],
   "source": [
    "# Lines below will give you a hint or solution code\n",
    "#step_3.a.hint()\n",
    "#step_3.a.solution()"
   ]
  },
  {
   "cell_type": "markdown",
   "metadata": {
    "papermill": {
     "duration": 0.048736,
     "end_time": "2020-12-08T03:55:14.587827",
     "exception": false,
     "start_time": "2020-12-08T03:55:14.539091",
     "status": "completed"
    },
    "tags": []
   },
   "source": [
    "For large datasets with many rows, one-hot encoding can greatly expand the size of the dataset.  For this reason, we typically will only one-hot encode columns with relatively low cardinality.  Then, high cardinality columns can either be dropped from the dataset, or we can use label encoding.\n",
    "\n",
    "As an example, consider a dataset with 10,000 rows, and containing one categorical column with 100 unique entries.  \n",
    "- If this column is replaced with the corresponding one-hot encoding, how many entries are added to the dataset?  \n",
    "- If we instead replace the column with the label encoding, how many entries are added?  \n",
    "\n",
    "Use your answers to fill in the lines below."
   ]
  },
  {
   "cell_type": "code",
   "execution_count": 20,
   "metadata": {
    "execution": {
     "iopub.execute_input": "2020-12-08T03:55:14.693317Z",
     "iopub.status.busy": "2020-12-08T03:55:14.692273Z",
     "iopub.status.idle": "2020-12-08T03:55:14.698003Z",
     "shell.execute_reply": "2020-12-08T03:55:14.698576Z"
    },
    "papermill": {
     "duration": 0.060903,
     "end_time": "2020-12-08T03:55:14.698750",
     "exception": false,
     "start_time": "2020-12-08T03:55:14.637847",
     "status": "completed"
    },
    "tags": []
   },
   "outputs": [
    {
     "data": {
      "application/javascript": [
       "parent.postMessage({\"jupyterEvent\": \"custom.exercise_interaction\", \"data\": {\"outcomeType\": 1, \"valueTowardsCompletion\": 0.5, \"interactionType\": 1, \"questionType\": 1, \"questionId\": \"3.2_CardinalityB\", \"learnToolsVersion\": \"0.3.4\", \"failureMessage\": \"\", \"exceptionClass\": \"\", \"trace\": \"\"}}, \"*\")"
      ],
      "text/plain": [
       "<IPython.core.display.Javascript object>"
      ]
     },
     "metadata": {},
     "output_type": "display_data"
    },
    {
     "data": {
      "text/markdown": [
       "<span style=\"color:#33cc33\">Correct</span>"
      ],
      "text/plain": [
       "Correct"
      ]
     },
     "metadata": {},
     "output_type": "display_data"
    }
   ],
   "source": [
    "# Fill in the line below: How many entries are added to the dataset by \n",
    "# replacing the column with a one-hot encoding?\n",
    "OH_entries_added = 1000000-10000\n",
    "\n",
    "# Fill in the line below: How many entries are added to the dataset by\n",
    "# replacing the column with a label encoding?\n",
    "label_entries_added = 0\n",
    "\n",
    "# Check your answers\n",
    "step_3.b.check()"
   ]
  },
  {
   "cell_type": "code",
   "execution_count": 21,
   "metadata": {
    "execution": {
     "iopub.execute_input": "2020-12-08T03:55:14.803670Z",
     "iopub.status.busy": "2020-12-08T03:55:14.802610Z",
     "iopub.status.idle": "2020-12-08T03:55:14.806249Z",
     "shell.execute_reply": "2020-12-08T03:55:14.805442Z"
    },
    "papermill": {
     "duration": 0.059085,
     "end_time": "2020-12-08T03:55:14.806385",
     "exception": false,
     "start_time": "2020-12-08T03:55:14.747300",
     "status": "completed"
    },
    "tags": []
   },
   "outputs": [],
   "source": [
    "# Lines below will give you a hint or solution code\n",
    "#step_3.b.hint()\n",
    "#step_3.b.solution()"
   ]
  },
  {
   "cell_type": "markdown",
   "metadata": {
    "papermill": {
     "duration": 0.04919,
     "end_time": "2020-12-08T03:55:14.906437",
     "exception": false,
     "start_time": "2020-12-08T03:55:14.857247",
     "status": "completed"
    },
    "tags": []
   },
   "source": [
    "# Step 4: One-hot encoding\n",
    "\n",
    "In this step, you'll experiment with one-hot encoding.  But, instead of encoding all of the categorical variables in the dataset, you'll only create a one-hot encoding for columns with cardinality less than 10.\n",
    "\n",
    "Run the code cell below without changes to set `low_cardinality_cols` to a Python list containing the columns that will be one-hot encoded.  Likewise, `high_cardinality_cols` contains a list of categorical columns that will be dropped from the dataset."
   ]
  },
  {
   "cell_type": "code",
   "execution_count": 22,
   "metadata": {
    "execution": {
     "iopub.execute_input": "2020-12-08T03:55:15.019643Z",
     "iopub.status.busy": "2020-12-08T03:55:15.017360Z",
     "iopub.status.idle": "2020-12-08T03:55:15.032642Z",
     "shell.execute_reply": "2020-12-08T03:55:15.031959Z"
    },
    "papermill": {
     "duration": 0.076442,
     "end_time": "2020-12-08T03:55:15.032813",
     "exception": false,
     "start_time": "2020-12-08T03:55:14.956371",
     "status": "completed"
    },
    "tags": []
   },
   "outputs": [
    {
     "name": "stdout",
     "output_type": "stream",
     "text": [
      "Categorical columns that will be one-hot encoded: ['MSZoning', 'Street', 'LotShape', 'LandContour', 'Utilities', 'LotConfig', 'LandSlope', 'Condition1', 'Condition2', 'BldgType', 'HouseStyle', 'RoofStyle', 'RoofMatl', 'ExterQual', 'ExterCond', 'Foundation', 'Heating', 'HeatingQC', 'CentralAir', 'KitchenQual', 'Functional', 'PavedDrive', 'SaleType', 'SaleCondition']\n",
      "\n",
      "Categorical columns that will be dropped from the dataset: ['Exterior1st', 'Exterior2nd', 'Neighborhood']\n",
      "number of cols: 60\n",
      "Number of numerical columns :33\n",
      "number of object_cols: 27\n",
      "number of low_cols: 24\n",
      "number of high_cols: 3\n"
     ]
    }
   ],
   "source": [
    "# Columns that will be one-hot encoded\n",
    "low_cardinality_cols = [col for col in object_cols if X_train[col].nunique() < 10]\n",
    "\n",
    "# Columns that will be dropped from the dataset\n",
    "high_cardinality_cols = list(set(object_cols)-set(low_cardinality_cols))\n",
    "\n",
    "#columns which are numerical\n",
    "num=cols=[col for col in X_train.columns if X_train[col].dtype!='object']\n",
    "\n",
    "\n",
    "\n",
    "print('Categorical columns that will be one-hot encoded:', low_cardinality_cols)\n",
    "print('\\nCategorical columns that will be dropped from the dataset:', high_cardinality_cols)\n",
    "\n",
    "print(\"number of cols: %d\"%(len(X_train.columns)))\n",
    "print(\"Number of numerical columns :%d\"%(len(num)))\n",
    "print(\"number of object_cols: %d\"%(len(object_cols)))\n",
    "print(\"number of low_cols: %d\"%(len(low_cardinality_cols)))\n",
    "print(\"number of high_cols: %d\"%(len(high_cardinality_cols)))"
   ]
  },
  {
   "cell_type": "markdown",
   "metadata": {
    "papermill": {
     "duration": 0.051271,
     "end_time": "2020-12-08T03:55:15.134910",
     "exception": false,
     "start_time": "2020-12-08T03:55:15.083639",
     "status": "completed"
    },
    "tags": []
   },
   "source": [
    "Use the next code cell to one-hot encode the data in `X_train` and `X_valid`.  Set the preprocessed DataFrames to `OH_X_train` and `OH_X_valid`, respectively.  \n",
    "- The full list of categorical columns in the dataset can be found in the Python list `object_cols`.\n",
    "- You should only one-hot encode the categorical columns in `low_cardinality_cols`.  All other categorical columns should be dropped from the dataset. "
   ]
  },
  {
   "cell_type": "code",
   "execution_count": 23,
   "metadata": {
    "execution": {
     "iopub.execute_input": "2020-12-08T03:55:15.280818Z",
     "iopub.status.busy": "2020-12-08T03:55:15.268863Z",
     "iopub.status.idle": "2020-12-08T03:55:15.307021Z",
     "shell.execute_reply": "2020-12-08T03:55:15.307692Z"
    },
    "papermill": {
     "duration": 0.12244,
     "end_time": "2020-12-08T03:55:15.307872",
     "exception": false,
     "start_time": "2020-12-08T03:55:15.185432",
     "status": "completed"
    },
    "tags": []
   },
   "outputs": [
    {
     "name": "stdout",
     "output_type": "stream",
     "text": [
      "155\n"
     ]
    },
    {
     "data": {
      "application/javascript": [
       "parent.postMessage({\"jupyterEvent\": \"custom.exercise_interaction\", \"data\": {\"outcomeType\": 1, \"valueTowardsCompletion\": 0.5, \"interactionType\": 1, \"questionType\": 2, \"questionId\": \"4_OneHot\", \"learnToolsVersion\": \"0.3.4\", \"failureMessage\": \"\", \"exceptionClass\": \"\", \"trace\": \"\"}}, \"*\")"
      ],
      "text/plain": [
       "<IPython.core.display.Javascript object>"
      ]
     },
     "metadata": {},
     "output_type": "display_data"
    },
    {
     "data": {
      "text/markdown": [
       "<span style=\"color:#33cc33\">Correct</span>"
      ],
      "text/plain": [
       "Correct"
      ]
     },
     "metadata": {},
     "output_type": "display_data"
    }
   ],
   "source": [
    "from sklearn.preprocessing import OneHotEncoder\n",
    "\n",
    "# Use as many lines of code as you need!\n",
    "\n",
    "encoder = OneHotEncoder(handle_unknown='ignore', sparse=False)\n",
    "OH_cols_train=pd.DataFrame(encoder.fit_transform(X_train[low_cardinality_cols])) #only gives one hot encoded columns\n",
    "OH_cols_valid=pd.DataFrame(encoder.transform(X_valid[low_cardinality_cols]))\n",
    "\n",
    "OH_cols_train.index=X_train.index\n",
    "OH_cols_valid.index=X_valid.index\n",
    "\n",
    "temp_drop_trainX=X_train.drop(columns=object_cols)\n",
    "temp_drop_validX=X_valid.drop(columns=object_cols)\n",
    "\n",
    "\n",
    "OH_X_train =pd.concat([temp_drop_trainX, OH_cols_train] ,axis=1) # Your code here\n",
    "OH_X_valid =pd.concat([temp_drop_validX , OH_cols_valid], axis=1)# Your code here\n",
    "\n",
    "\n",
    "print(len(OH_X_train.columns))\n",
    "# Check your answer\n",
    "step_4.check()"
   ]
  },
  {
   "cell_type": "code",
   "execution_count": 24,
   "metadata": {
    "execution": {
     "iopub.execute_input": "2020-12-08T03:55:15.423569Z",
     "iopub.status.busy": "2020-12-08T03:55:15.422491Z",
     "iopub.status.idle": "2020-12-08T03:55:15.430982Z",
     "shell.execute_reply": "2020-12-08T03:55:15.430287Z"
    },
    "papermill": {
     "duration": 0.069717,
     "end_time": "2020-12-08T03:55:15.431189",
     "exception": false,
     "start_time": "2020-12-08T03:55:15.361472",
     "status": "completed"
    },
    "tags": []
   },
   "outputs": [
    {
     "data": {
      "application/javascript": [
       "parent.postMessage({\"jupyterEvent\": \"custom.exercise_interaction\", \"data\": {\"interactionType\": 3, \"questionType\": 2, \"questionId\": \"4_OneHot\", \"learnToolsVersion\": \"0.3.4\", \"valueTowardsCompletion\": 0.0, \"failureMessage\": \"\", \"exceptionClass\": \"\", \"trace\": \"\", \"outcomeType\": 4}}, \"*\")"
      ],
      "text/plain": [
       "<IPython.core.display.Javascript object>"
      ]
     },
     "metadata": {},
     "output_type": "display_data"
    },
    {
     "data": {
      "text/markdown": [
       "<span style=\"color:#33cc99\">Solution:</span> \n",
       "```python\n",
       "# Apply one-hot encoder to each column with categorical data\n",
       "OH_encoder = OneHotEncoder(handle_unknown='ignore', sparse=False)\n",
       "OH_cols_train = pd.DataFrame(OH_encoder.fit_transform(X_train[low_cardinality_cols]))\n",
       "OH_cols_valid = pd.DataFrame(OH_encoder.transform(X_valid[low_cardinality_cols]))\n",
       "\n",
       "# One-hot encoding removed index; put it back\n",
       "OH_cols_train.index = X_train.index\n",
       "OH_cols_valid.index = X_valid.index\n",
       "\n",
       "# Remove categorical columns (will replace with one-hot encoding)\n",
       "num_X_train = X_train.drop(object_cols, axis=1)\n",
       "num_X_valid = X_valid.drop(object_cols, axis=1)\n",
       "\n",
       "# Add one-hot encoded columns to numerical features\n",
       "OH_X_train = pd.concat([num_X_train, OH_cols_train], axis=1)\n",
       "OH_X_valid = pd.concat([num_X_valid, OH_cols_valid], axis=1)\n",
       "\n",
       "\n",
       "```"
      ],
      "text/plain": [
       "Solution: \n",
       "```python\n",
       "# Apply one-hot encoder to each column with categorical data\n",
       "OH_encoder = OneHotEncoder(handle_unknown='ignore', sparse=False)\n",
       "OH_cols_train = pd.DataFrame(OH_encoder.fit_transform(X_train[low_cardinality_cols]))\n",
       "OH_cols_valid = pd.DataFrame(OH_encoder.transform(X_valid[low_cardinality_cols]))\n",
       "\n",
       "# One-hot encoding removed index; put it back\n",
       "OH_cols_train.index = X_train.index\n",
       "OH_cols_valid.index = X_valid.index\n",
       "\n",
       "# Remove categorical columns (will replace with one-hot encoding)\n",
       "num_X_train = X_train.drop(object_cols, axis=1)\n",
       "num_X_valid = X_valid.drop(object_cols, axis=1)\n",
       "\n",
       "# Add one-hot encoded columns to numerical features\n",
       "OH_X_train = pd.concat([num_X_train, OH_cols_train], axis=1)\n",
       "OH_X_valid = pd.concat([num_X_valid, OH_cols_valid], axis=1)\n",
       "\n",
       "\n",
       "```"
      ]
     },
     "metadata": {},
     "output_type": "display_data"
    }
   ],
   "source": [
    "# Lines below will give you a hint or solution code\n",
    "#step_4.hint()\n",
    "step_4.solution()"
   ]
  },
  {
   "cell_type": "markdown",
   "metadata": {
    "papermill": {
     "duration": 0.05276,
     "end_time": "2020-12-08T03:55:15.540344",
     "exception": false,
     "start_time": "2020-12-08T03:55:15.487584",
     "status": "completed"
    },
    "tags": []
   },
   "source": [
    "Run the next code cell to get the MAE for this approach."
   ]
  },
  {
   "cell_type": "code",
   "execution_count": 25,
   "metadata": {
    "execution": {
     "iopub.execute_input": "2020-12-08T03:55:15.661531Z",
     "iopub.status.busy": "2020-12-08T03:55:15.660704Z",
     "iopub.status.idle": "2020-12-08T03:55:17.887339Z",
     "shell.execute_reply": "2020-12-08T03:55:17.886493Z"
    },
    "papermill": {
     "duration": 2.291963,
     "end_time": "2020-12-08T03:55:17.887516",
     "exception": false,
     "start_time": "2020-12-08T03:55:15.595553",
     "status": "completed"
    },
    "tags": []
   },
   "outputs": [
    {
     "name": "stdout",
     "output_type": "stream",
     "text": [
      "MAE from Approach 3 (One-Hot Encoding):\n",
      "17525.345719178084\n"
     ]
    }
   ],
   "source": [
    "print(\"MAE from Approach 3 (One-Hot Encoding):\") \n",
    "print(score_dataset(OH_X_train, OH_X_valid, y_train, y_valid))"
   ]
  },
  {
   "cell_type": "markdown",
   "metadata": {
    "papermill": {
     "duration": 0.056963,
     "end_time": "2020-12-08T03:55:18.003885",
     "exception": false,
     "start_time": "2020-12-08T03:55:17.946922",
     "status": "completed"
    },
    "tags": []
   },
   "source": [
    "# Step 5: Generate test predictions and submit your results\n",
    "\n",
    "After you complete Step 4, if you'd like to use what you've learned to submit your results to the leaderboard, you'll need to preprocess the test data before generating predictions.\n",
    "\n",
    "**This step is completely optional, and you do not need to submit results to the leaderboard to successfully complete the exercise.**\n",
    "\n",
    "Check out the previous exercise if you need help with remembering how to [join the competition](https://www.kaggle.com/c/home-data-for-ml-course) or save your results to CSV.  Once you have generated a file with your results, follow the instructions below:\n",
    "1. Begin by clicking on the blue **Save Version** button in the top right corner of the window.  This will generate a pop-up window.  \n",
    "2. Ensure that the **Save and Run All** option is selected, and then click on the blue **Save** button.\n",
    "3. This generates a window in the bottom left corner of the notebook.  After it has finished running, click on the number to the right of the **Save Version** button.  This pulls up a list of versions on the right of the screen.  Click on the ellipsis **(...)** to the right of the most recent version, and select **Open in Viewer**.  This brings you into view mode of the same page. You will need to scroll down to get back to these instructions.\n",
    "4. Click on the **Output** tab on the right of the screen.  Then, click on the blue **Submit** button to submit your results to the leaderboard.\n",
    "\n",
    "You have now successfully submitted to the competition!\n",
    "\n",
    "If you want to keep working to improve your performance, select the blue **Edit** button in the top right of the screen. Then you can change your code and repeat the process. There's a lot of room to improve, and you will climb up the leaderboard as you work.\n"
   ]
  },
  {
   "cell_type": "code",
   "execution_count": 26,
   "metadata": {
    "execution": {
     "iopub.execute_input": "2020-12-08T03:55:18.129942Z",
     "iopub.status.busy": "2020-12-08T03:55:18.129079Z",
     "iopub.status.idle": "2020-12-08T03:55:18.133439Z",
     "shell.execute_reply": "2020-12-08T03:55:18.132661Z"
    },
    "papermill": {
     "duration": 0.066412,
     "end_time": "2020-12-08T03:55:18.133585",
     "exception": false,
     "start_time": "2020-12-08T03:55:18.067173",
     "status": "completed"
    },
    "tags": []
   },
   "outputs": [],
   "source": [
    "# (Optional) Your code here"
   ]
  },
  {
   "cell_type": "markdown",
   "metadata": {
    "papermill": {
     "duration": 0.055772,
     "end_time": "2020-12-08T03:55:18.244350",
     "exception": false,
     "start_time": "2020-12-08T03:55:18.188578",
     "status": "completed"
    },
    "tags": []
   },
   "source": [
    "# Keep going\n",
    "\n",
    "With missing value handling and categorical encoding, your modeling process is getting complex. This complexity gets worse when you want to save your model to use in the future. The key to managing this complexity is something called **pipelines**. \n",
    "\n",
    "**[Learn to use pipelines](https://www.kaggle.com/alexisbcook/pipelines)** to preprocess datasets with categorical variables, missing values and any other messiness your data throws at you."
   ]
  },
  {
   "cell_type": "markdown",
   "metadata": {
    "papermill": {
     "duration": 0.055642,
     "end_time": "2020-12-08T03:55:18.354296",
     "exception": false,
     "start_time": "2020-12-08T03:55:18.298654",
     "status": "completed"
    },
    "tags": []
   },
   "source": [
    "---\n",
    "\n",
    "\n",
    "\n",
    "\n",
    "*Have questions or comments? Visit the [Learn Discussion forum](https://www.kaggle.com/learn-forum/161289) to chat with other Learners.*"
   ]
  }
 ],
 "metadata": {
  "kernelspec": {
   "display_name": "Python 3",
   "language": "python",
   "name": "python3"
  },
  "language_info": {
   "codemirror_mode": {
    "name": "ipython",
    "version": 3
   },
   "file_extension": ".py",
   "mimetype": "text/x-python",
   "name": "python",
   "nbconvert_exporter": "python",
   "pygments_lexer": "ipython3",
   "version": "3.8.2"
  },
  "papermill": {
   "duration": 17.108624,
   "end_time": "2020-12-08T03:55:18.516181",
   "environment_variables": {},
   "exception": null,
   "input_path": "__notebook__.ipynb",
   "output_path": "__notebook__.ipynb",
   "parameters": {},
   "start_time": "2020-12-08T03:55:01.407557",
   "version": "2.1.0"
  }
 },
 "nbformat": 4,
 "nbformat_minor": 4
}
